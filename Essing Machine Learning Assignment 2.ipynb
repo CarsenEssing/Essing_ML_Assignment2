{
 "cells": [
  {
   "cell_type": "markdown",
   "id": "1f60e29d-31f6-4e72-9826-8c43f2e683a3",
   "metadata": {},
   "source": [
    "# Carsen Essing Machine Learning Assignment 2\n",
    "\n",
    "## Upload data- LA 3"
   ]
  },
  {
   "cell_type": "code",
   "execution_count": 15,
   "id": "2b4ff77b-193c-429f-834d-5f4c6d47542a",
   "metadata": {},
   "outputs": [
    {
     "name": "stdout",
     "output_type": "stream",
     "text": [
      "All columns in the dataset:\n",
      "['id', 'listing_url', 'scrape_id', 'last_scraped', 'source', 'name', 'description', 'neighborhood_overview', 'picture_url', 'host_id', 'host_url', 'host_name', 'host_since', 'host_location', 'host_about', 'host_response_time', 'host_response_rate', 'host_acceptance_rate', 'host_is_superhost', 'host_thumbnail_url', 'host_picture_url', 'host_neighbourhood', 'host_listings_count', 'host_total_listings_count', 'host_verifications', 'host_has_profile_pic', 'host_identity_verified', 'neighbourhood', 'neighbourhood_cleansed', 'neighbourhood_group_cleansed', 'latitude', 'longitude', 'property_type', 'room_type', 'accommodates', 'bathrooms', 'bathrooms_text', 'bedrooms', 'beds', 'amenities', 'price', 'minimum_nights', 'maximum_nights', 'minimum_minimum_nights', 'maximum_minimum_nights', 'minimum_maximum_nights', 'maximum_maximum_nights', 'minimum_nights_avg_ntm', 'maximum_nights_avg_ntm', 'calendar_updated', 'has_availability', 'availability_30', 'availability_60', 'availability_90', 'availability_365', 'calendar_last_scraped', 'number_of_reviews', 'number_of_reviews_ltm', 'number_of_reviews_l30d', 'first_review', 'last_review', 'review_scores_rating', 'review_scores_accuracy', 'review_scores_cleanliness', 'review_scores_checkin', 'review_scores_communication', 'review_scores_location', 'review_scores_value', 'license', 'instant_bookable', 'calculated_host_listings_count', 'calculated_host_listings_count_entire_homes', 'calculated_host_listings_count_private_rooms', 'calculated_host_listings_count_shared_rooms', 'reviews_per_month']\n",
      "\n",
      "Columns recommended to drop:\n",
      "['listing_url', 'scrape_id', 'last_scraped', 'source', 'name', 'description', 'neighborhood_overview', 'picture_url', 'host_id', 'host_url', 'host_name', 'host_since', 'host_location', 'host_about', 'host_response_time', 'host_response_rate', 'host_acceptance_rate', 'host_is_superhost', 'host_thumbnail_url', 'host_picture_url', 'host_neighbourhood', 'host_listings_count', 'host_total_listings_count', 'host_verifications', 'host_has_profile_pic', 'host_identity_verified', 'neighbourhood', 'neighbourhood_group_cleansed', 'bathrooms_text', 'minimum_minimum_nights', 'maximum_minimum_nights', 'minimum_maximum_nights', 'maximum_maximum_nights', 'minimum_nights_avg_ntm', 'maximum_nights_avg_ntm', 'calendar_updated', 'has_availability', 'availability_30', 'availability_60', 'availability_90', 'availability_365', 'calendar_last_scraped', 'number_of_reviews_ltm', 'number_of_reviews_l30d', 'first_review', 'last_review', 'review_scores_accuracy', 'review_scores_cleanliness', 'review_scores_checkin', 'review_scores_communication', 'review_scores_location', 'review_scores_value', 'license', 'instant_bookable', 'calculated_host_listings_count', 'calculated_host_listings_count_entire_homes', 'calculated_host_listings_count_private_rooms', 'calculated_host_listings_count_shared_rooms']\n",
      "\n",
      "The reduced CSV file 'LAq1_reduced.csv' has been created.\n"
     ]
    }
   ],
   "source": [
    "import pandas as pd\n",
    "\n",
    "# Read your dataset\n",
    "#df = pd.read_csv(\"LAQ3.csv\")\n",
    "\n",
    "# Print all columns to inspect the dataset\n",
    "#print(\"All columns in the dataset:\")\n",
    "#print(df.columns.tolist())\n",
    "\n",
    "# Define the list of columns to keep, using 'neighbourhood_cleansed' instead of 'neighbourhood'\n",
    "#columns_to_keep = [\n",
    "    'id',                   # unique identifier\n",
    "    'property_type',        # property type (e.g., Apartment, House)\n",
    "    'room_type',            # room type (e.g., Entire home/apt, Private room)\n",
    "    'accommodates',         # number of guests the listing can accommodate\n",
    "    'bedrooms',             # number of bedrooms\n",
    "    'bathrooms',            # number of bathrooms\n",
    "    'beds',                 # number of beds\n",
    "    'price',                # price per night (target variable)\n",
    "    'minimum_nights',       # minimum nights required\n",
    "    'maximum_nights',       # maximum nights allowed\n",
    "    'amenities',            # amenities (raw string; later processed)\n",
    "    'number_of_reviews',    # count of reviews\n",
    "    'reviews_per_month',    # review frequency\n",
    "    'review_scores_rating', # overall review score\n",
    "    'latitude',             # geographic coordinate\n",
    "    'longitude',            # geographic coordinate\n",
    "    'neighbourhood_cleansed' # cleaned neighbourhood name\n",
    "]\n",
    "\n",
    "# Identify the columns in the dataset that are not in the keep list\n",
    "#columns_to_drop = [col for col in df.columns if col not in columns_to_keep]\n",
    "\n",
    "#print(\"\\nColumns recommended to drop:\")\n",
    "#print(columns_to_drop)\n",
    "\n",
    "# Create a reduced DataFrame with only the desired columns\n",
    "#df_reduced = df[columns_to_keep]\n",
    "\n",
    "# Save the reduced DataFrame to a new CSV file for easier sharing\n",
    "#df_reduced.to_csv(\"LAQ3_reduced.csv\", index=False)\n",
    "#print(\"\\nThe reduced CSV file 'LAQ3_reduced.csv' has been created.\")\n"
   ]
  },
  {
   "cell_type": "code",
   "execution_count": 17,
   "id": "efd0d75d-f1af-4f7e-b5fb-b0d0921b20bf",
   "metadata": {},
   "outputs": [
    {
     "name": "stdout",
     "output_type": "stream",
     "text": [
      "LAQ3_reduced.csv has been successfully compressed into LAQ3_reduced.zip\n"
     ]
    }
   ],
   "source": [
    "import zipfile\n",
    "\n",
    "# Specify the CSV file to compress and the desired zip file name\n",
    "csv_filename = \"LAQ3_reduced.csv\"\n",
    "zip_filename = \"LAQ3_reduced.zip\"\n",
    "\n",
    "# Create a ZipFile object in write mode, compressing with ZIP_DEFLATED\n",
    "with zipfile.ZipFile(zip_filename, 'w', zipfile.ZIP_DEFLATED) as zipf:\n",
    "    # Add the CSV file to the zip archive. The arcname parameter ensures that only the filename is stored (not the entire path)\n",
    "    zipf.write(csv_filename, arcname=csv_filename)\n",
    "\n",
    "print(f\"{csv_filename} has been successfully compressed into {zip_filename}\")\n"
   ]
  },
  {
   "cell_type": "code",
   "execution_count": 22,
   "id": "318a6e6c-e142-40e3-b1e7-2c692a678077",
   "metadata": {},
   "outputs": [
    {
     "name": "stdout",
     "output_type": "stream",
     "text": [
      "All columns in the dataset:\n",
      "['id', 'listing_url', 'scrape_id', 'last_scraped', 'source', 'name', 'description', 'neighborhood_overview', 'picture_url', 'host_id', 'host_url', 'host_name', 'host_since', 'host_location', 'host_about', 'host_response_time', 'host_response_rate', 'host_acceptance_rate', 'host_is_superhost', 'host_thumbnail_url', 'host_picture_url', 'host_neighbourhood', 'host_listings_count', 'host_total_listings_count', 'host_verifications', 'host_has_profile_pic', 'host_identity_verified', 'neighbourhood', 'neighbourhood_cleansed', 'neighbourhood_group_cleansed', 'latitude', 'longitude', 'property_type', 'room_type', 'accommodates', 'bathrooms', 'bathrooms_text', 'bedrooms', 'beds', 'amenities', 'price', 'minimum_nights', 'maximum_nights', 'minimum_minimum_nights', 'maximum_minimum_nights', 'minimum_maximum_nights', 'maximum_maximum_nights', 'minimum_nights_avg_ntm', 'maximum_nights_avg_ntm', 'calendar_updated', 'has_availability', 'availability_30', 'availability_60', 'availability_90', 'availability_365', 'calendar_last_scraped', 'number_of_reviews', 'number_of_reviews_ltm', 'number_of_reviews_l30d', 'first_review', 'last_review', 'review_scores_rating', 'review_scores_accuracy', 'review_scores_cleanliness', 'review_scores_checkin', 'review_scores_communication', 'review_scores_location', 'review_scores_value', 'license', 'instant_bookable', 'calculated_host_listings_count', 'calculated_host_listings_count_entire_homes', 'calculated_host_listings_count_private_rooms', 'calculated_host_listings_count_shared_rooms', 'reviews_per_month']\n",
      "\n",
      "Columns recommended to drop:\n",
      "['listing_url', 'scrape_id', 'last_scraped', 'source', 'name', 'description', 'neighborhood_overview', 'picture_url', 'host_id', 'host_url', 'host_name', 'host_since', 'host_location', 'host_about', 'host_response_time', 'host_response_rate', 'host_acceptance_rate', 'host_is_superhost', 'host_thumbnail_url', 'host_picture_url', 'host_neighbourhood', 'host_listings_count', 'host_total_listings_count', 'host_verifications', 'host_has_profile_pic', 'host_identity_verified', 'neighbourhood', 'neighbourhood_group_cleansed', 'bathrooms_text', 'minimum_minimum_nights', 'maximum_minimum_nights', 'minimum_maximum_nights', 'maximum_maximum_nights', 'minimum_nights_avg_ntm', 'maximum_nights_avg_ntm', 'calendar_updated', 'has_availability', 'availability_30', 'availability_60', 'availability_90', 'availability_365', 'calendar_last_scraped', 'number_of_reviews_ltm', 'number_of_reviews_l30d', 'first_review', 'last_review', 'review_scores_accuracy', 'review_scores_cleanliness', 'review_scores_checkin', 'review_scores_communication', 'review_scores_location', 'review_scores_value', 'license', 'instant_bookable', 'calculated_host_listings_count', 'calculated_host_listings_count_entire_homes', 'calculated_host_listings_count_private_rooms', 'calculated_host_listings_count_shared_rooms']\n",
      "\n",
      "The reduced CSV file 'LAQ4_reduced.csv' has been created.\n"
     ]
    }
   ],
   "source": [
    "#SC 4 Data upload\n",
    "\n",
    "#import pandas as pd\n",
    "\n",
    "# Read your dataset\n",
    "#df = pd.read_csv(\"LAQ4.csv\")\n",
    "\n",
    "# Print all columns to inspect the dataset\n",
    "#print(\"All columns in the dataset:\")\n",
    "#print(df.columns.tolist())\n",
    "\n",
    "# Define the list of columns to keep, using 'neighbourhood_cleansed' instead of 'neighbourhood'\n",
    "#columns_to_keep = [\n",
    "    'id',                   # unique identifier\n",
    "    'property_type',        # property type (e.g., Apartment, House)\n",
    "    'room_type',            # room type (e.g., Entire home/apt, Private room)\n",
    "    'accommodates',         # number of guests the listing can accommodate\n",
    "    'bedrooms',             # number of bedrooms\n",
    "    'bathrooms',            # number of bathrooms\n",
    "    'beds',                 # number of beds\n",
    "    'price',                # price per night (target variable)\n",
    "    'minimum_nights',       # minimum nights required\n",
    "    'maximum_nights',       # maximum nights allowed\n",
    "    'amenities',            # amenities (raw string; later processed)\n",
    "    'number_of_reviews',    # count of reviews\n",
    "    'reviews_per_month',    # review frequency\n",
    "    'review_scores_rating', # overall review score\n",
    "    'latitude',             # geographic coordinate\n",
    "    'longitude',            # geographic coordinate\n",
    "    'neighbourhood_cleansed' # cleaned neighbourhood name\n",
    "]\n",
    "\n",
    "# Identify the columns in the dataset that are not in the keep list\n",
    "columns_to_drop = [col for col in df.columns if col not in columns_to_keep]\n",
    "\n",
    "print(\"\\nColumns recommended to drop:\")\n",
    "print(columns_to_drop)\n",
    "\n",
    "# Create a reduced DataFrame with only the desired columns\n",
    "df_reduced = df[columns_to_keep]\n",
    "\n",
    "# Save the reduced DataFrame to a new CSV file for easier sharing\n",
    "df_reduced.to_csv(\"LAQ4_reduced.csv\", index=False)\n",
    "print(\"\\nThe reduced CSV file 'LAQ4_reduced.csv' has been created.\")"
   ]
  },
  {
   "cell_type": "code",
   "execution_count": 24,
   "id": "7af6bc7a-11f0-48a9-b23c-331ed0cff0ad",
   "metadata": {},
   "outputs": [
    {
     "name": "stdout",
     "output_type": "stream",
     "text": [
      "LAQ4_reduced.csv has been successfully compressed into LAQ4_reduced.zip\n"
     ]
    }
   ],
   "source": [
    "import zipfile\n",
    "\n",
    "# Specify the CSV file to compress and the desired zip file name\n",
    "csv_filename = \"LAQ4_reduced.csv\"\n",
    "zip_filename = \"LAQ4_reduced.zip\"\n",
    "\n",
    "# Create a ZipFile object in write mode, compressing with ZIP_DEFLATED\n",
    "with zipfile.ZipFile(zip_filename, 'w', zipfile.ZIP_DEFLATED) as zipf:\n",
    "    # Add the CSV file to the zip archive. The arcname parameter ensures that only the filename is stored (not the entire path)\n",
    "    zipf.write(csv_filename, arcname=csv_filename)\n",
    "\n",
    "print(f\"{csv_filename} has been successfully compressed into {zip_filename}\")\n"
   ]
  },
  {
   "cell_type": "markdown",
   "id": "7ac610e1-577d-41e1-83a0-3f03219ccd37",
   "metadata": {},
   "source": [
    "# Code starts here ! Upload Q3 LA Data from GitHub"
   ]
  },
  {
   "cell_type": "code",
   "execution_count": 33,
   "id": "85456cf5-aa54-41f5-9bdd-5338265e8baf",
   "metadata": {},
   "outputs": [
    {
     "name": "stdout",
     "output_type": "stream",
     "text": [
      "Files in the zip: ['LAQ3_reduced.csv']\n",
      "Dataset shape: (45533, 17)\n",
      "Columns: ['id', 'property_type', 'room_type', 'accommodates', 'bedrooms', 'bathrooms', 'beds', 'price', 'minimum_nights', 'maximum_nights', 'amenities', 'number_of_reviews', 'reviews_per_month', 'review_scores_rating', 'latitude', 'longitude', 'neighbourhood_cleansed']\n",
      "                    id         property_type        room_type  accommodates  \\\n",
      "0   670339032744709144          Entire condo  Entire home/apt             6   \n",
      "1             37014494    Entire rental unit  Entire home/apt             2   \n",
      "2  1024835174766068422           Entire home  Entire home/apt             6   \n",
      "3   850744632375448560  Private room in home     Private room             2   \n",
      "4   953950676345326970    Entire rental unit  Entire home/apt             2   \n",
      "\n",
      "   bedrooms  bathrooms  beds    price  minimum_nights  maximum_nights  \\\n",
      "0       3.0        3.0   3.0  $399.00              30             365   \n",
      "1       2.0        NaN   NaN      NaN              30             270   \n",
      "2       3.0        3.0   3.0  $434.00              30             365   \n",
      "3       1.0        1.0   1.0   $49.00               1             365   \n",
      "4       0.0        1.0   1.0  $231.00               5              29   \n",
      "\n",
      "                                           amenities  number_of_reviews  \\\n",
      "0  [\"Dedicated workspace\", \"Air conditioning\", \"K...                  0   \n",
      "1  [\"Air conditioning\", \"Pets allowed\", \"Hot wate...                  0   \n",
      "2  [\"Air conditioning\", \"Kitchen\", \"Carbon monoxi...                  0   \n",
      "3  [\"Dedicated workspace\", \"Air conditioning\", \"K...                  1   \n",
      "4  [\"Clothing storage: closet\", \"Shared beach acc...                 44   \n",
      "\n",
      "   reviews_per_month  review_scores_rating   latitude   longitude  \\\n",
      "0                NaN                   NaN  34.049660 -118.435550   \n",
      "1                NaN                   NaN  34.048410 -118.387510   \n",
      "2                NaN                   NaN  34.070583 -118.390742   \n",
      "3               0.06                  3.00  34.109329 -118.073098   \n",
      "4               3.41                  4.93  34.015590 -118.494080   \n",
      "\n",
      "  neighbourhood_cleansed  \n",
      "0       West Los Angeles  \n",
      "1            Beverlywood  \n",
      "2          Beverly Hills  \n",
      "3            Temple City  \n",
      "4           Santa Monica  \n",
      "Data loaded successfully:\n",
      "                    id         property_type        room_type  accommodates  \\\n",
      "0   670339032744709144          Entire condo  Entire home/apt             6   \n",
      "1             37014494    Entire rental unit  Entire home/apt             2   \n",
      "2  1024835174766068422           Entire home  Entire home/apt             6   \n",
      "3   850744632375448560  Private room in home     Private room             2   \n",
      "4   953950676345326970    Entire rental unit  Entire home/apt             2   \n",
      "\n",
      "   bedrooms  bathrooms  beds    price  minimum_nights  maximum_nights  \\\n",
      "0       3.0        3.0   3.0  $399.00              30             365   \n",
      "1       2.0        NaN   NaN      NaN              30             270   \n",
      "2       3.0        3.0   3.0  $434.00              30             365   \n",
      "3       1.0        1.0   1.0   $49.00               1             365   \n",
      "4       0.0        1.0   1.0  $231.00               5              29   \n",
      "\n",
      "                                           amenities  number_of_reviews  \\\n",
      "0  [\"Dedicated workspace\", \"Air conditioning\", \"K...                  0   \n",
      "1  [\"Air conditioning\", \"Pets allowed\", \"Hot wate...                  0   \n",
      "2  [\"Air conditioning\", \"Kitchen\", \"Carbon monoxi...                  0   \n",
      "3  [\"Dedicated workspace\", \"Air conditioning\", \"K...                  1   \n",
      "4  [\"Clothing storage: closet\", \"Shared beach acc...                 44   \n",
      "\n",
      "   reviews_per_month  review_scores_rating   latitude   longitude  \\\n",
      "0                NaN                   NaN  34.049660 -118.435550   \n",
      "1                NaN                   NaN  34.048410 -118.387510   \n",
      "2                NaN                   NaN  34.070583 -118.390742   \n",
      "3               0.06                  3.00  34.109329 -118.073098   \n",
      "4               3.41                  4.93  34.015590 -118.494080   \n",
      "\n",
      "  neighbourhood_cleansed  \n",
      "0       West Los Angeles  \n",
      "1            Beverlywood  \n",
      "2          Beverly Hills  \n",
      "3            Temple City  \n",
      "4           Santa Monica  \n"
     ]
    }
   ],
   "source": [
    "import requests\n",
    "import zipfile\n",
    "import io\n",
    "import pandas as pd\n",
    "\n",
    "# Raw URL to your zip file on GitHub\n",
    "url = \"https://raw.githubusercontent.com/CarsenEssing/Essing_ML_Assignment2/main/LAQ3_reduced.zip\"\n",
    "\n",
    "# Download the file as bytes\n",
    "response = requests.get(url)\n",
    "response.raise_for_status()  # Raises an error if the download fails\n",
    "\n",
    "# Open the downloaded content as a ZipFile\n",
    "with zipfile.ZipFile(io.BytesIO(response.content)) as z:\n",
    "    # List the files in the zip archive (for verification)\n",
    "    print(\"Files in the zip:\", z.namelist())\n",
    "    # Assuming the CSV file inside is named 'LAQ3_reduced.csv'\n",
    "    df = pd.read_csv(z.open(\"LAQ3_reduced.csv\"))\n",
    "\n",
    "print(\"Data loaded successfully:\")\n",
    "print(df.head())\n"
   ]
  },
  {
   "cell_type": "markdown",
   "id": "b74c318f-f6f9-4190-9032-092dbd8eb626",
   "metadata": {},
   "source": [
    "# Data Wrangling\n",
    "\n",
    "## Clean up price and amenities columns"
   ]
  },
  {
   "cell_type": "code",
   "execution_count": 37,
   "id": "cea0a915-9c89-415e-a75d-702b09bd0c95",
   "metadata": {},
   "outputs": [
    {
     "name": "stdout",
     "output_type": "stream",
     "text": [
      "Price before and after cleaning:\n",
      "     price  price_clean\n",
      "0  $399.00        399.0\n",
      "1      NaN          NaN\n",
      "2  $434.00        434.0\n",
      "3   $49.00         49.0\n",
      "4  $231.00        231.0\n",
      "\n",
      "Sample of processed amenities column:\n",
      "                                           amenities  \\\n",
      "0  [\"Dedicated workspace\", \"Air conditioning\", \"K...   \n",
      "1  [\"Air conditioning\", \"Pets allowed\", \"Hot wate...   \n",
      "2  [\"Air conditioning\", \"Kitchen\", \"Carbon monoxi...   \n",
      "3  [\"Dedicated workspace\", \"Air conditioning\", \"K...   \n",
      "4  [\"Clothing storage: closet\", \"Shared beach acc...   \n",
      "\n",
      "                                      amenities_list  \n",
      "0  [Dedicated workspace, Air conditioning, Kitche...  \n",
      "1  [Air conditioning, Pets allowed, Hot water, Ki...  \n",
      "2  [Air conditioning, Kitchen, Carbon monoxide al...  \n",
      "3  [Dedicated workspace, Air conditioning, Kitche...  \n",
      "4  [Clothing storage: closet, Shared beach access...  \n"
     ]
    }
   ],
   "source": [
    "# Remove the dollar sign and any commas, then convert the string to a float.\n",
    "df['price_clean'] = df['price'].replace({r'\\$': '', ',': ''}, regex=True).astype(float)\n",
    "\n",
    "# Print the original and cleaned price columns to verify changes.\n",
    "print(\"Price before and after cleaning:\")\n",
    "print(df[['price', 'price_clean']].head())\n",
    "\n",
    "# Process the 'amenities' column:\n",
    "# Remove the enclosing square brackets and quotes, then split the string into a list.\n",
    "df['amenities_list'] = df['amenities'].apply(lambda x: x.strip('[]\"').split('\", \"'))\n",
    "\n",
    "# Print a sample of the processed amenities column.\n",
    "print(\"\\nSample of processed amenities column:\")\n",
    "print(df[['amenities', 'amenities_list']].head())\n"
   ]
  },
  {
   "cell_type": "markdown",
   "id": "e3804bb1-bc0c-4972-becf-ad7056bdd523",
   "metadata": {},
   "source": [
    "## create bianary code for popular amenities"
   ]
  },
  {
   "cell_type": "code",
   "execution_count": 39,
   "id": "f701e760-83e9-4094-8117-b67935d269a5",
   "metadata": {},
   "outputs": [
    {
     "name": "stdout",
     "output_type": "stream",
     "text": [
      "Binary amenity columns:\n",
      "   amenity_air_conditioning  amenity_wifi  amenity_kitchen  amenity_heating  \\\n",
      "0                         1             1                1                0   \n",
      "1                         1             1                1                1   \n",
      "2                         1             1                1                0   \n",
      "3                         1             1                1                0   \n",
      "4                         1             1                1                1   \n",
      "\n",
      "   amenity_washer  amenity_dryer  amenity_tv  amenity_cable_tv  \\\n",
      "0               1              0           1                 0   \n",
      "1               1              1           1                 0   \n",
      "2               1              0           1                 0   \n",
      "3               1              0           0                 0   \n",
      "4               0              0           0                 0   \n",
      "\n",
      "   amenity_free_parking_on_premises  amenity_pool  amenity_hot_water  \n",
      "0                                 1             0                  0  \n",
      "1                                 1             0                  1  \n",
      "2                                 1             0                  0  \n",
      "3                                 1             0                  0  \n",
      "4                                 0             0                  1  \n"
     ]
    }
   ],
   "source": [
    "# Define a list of popular amenities to extract as binary features.\n",
    "# You may adjust this list based on what appears in your dataset.\n",
    "popular_amenities = [\n",
    "    \"Air conditioning\", \n",
    "    \"Wifi\", \n",
    "    \"Kitchen\", \n",
    "    \"Heating\", \n",
    "    \"Washer\", \n",
    "    \"Dryer\", \n",
    "    \"TV\", \n",
    "    \"Cable TV\", \n",
    "    \"Free parking on premises\", \n",
    "    \"Pool\", \n",
    "    \"Hot water\"\n",
    "]\n",
    "\n",
    "# For each amenity, create a new binary column.\n",
    "for amenity in popular_amenities:\n",
    "    # Create a column name by replacing spaces with underscores and converting to lowercase.\n",
    "    col_name = f\"amenity_{amenity.replace(' ', '_').lower()}\"\n",
    "    df[col_name] = df[\"amenities_list\"].apply(lambda x: 1 if amenity in x else 0)\n",
    "\n",
    "# Display the first few rows of the new binary amenity columns.\n",
    "binary_columns = [f\"amenity_{amenity.replace(' ', '_').lower()}\" for amenity in popular_amenities]\n",
    "print(\"Binary amenity columns:\")\n",
    "print(df[binary_columns].head())\n"
   ]
  },
  {
   "cell_type": "code",
   "execution_count": 59,
   "id": "78fb927d-c556-4198-bd1f-36409829b822",
   "metadata": {},
   "outputs": [
    {
     "name": "stdout",
     "output_type": "stream",
     "text": [
      "Missing percentages per column:\n",
      "id                                  0.0\n",
      "property_type                       0.0\n",
      "amenity_pool                        0.0\n",
      "amenity_free_parking_on_premises    0.0\n",
      "amenity_cable_tv                    0.0\n",
      "amenity_tv                          0.0\n",
      "amenity_dryer                       0.0\n",
      "amenity_washer                      0.0\n",
      "amenity_heating                     0.0\n",
      "amenity_kitchen                     0.0\n",
      "amenity_wifi                        0.0\n",
      "amenity_air_conditioning            0.0\n",
      "amenities_list                      0.0\n",
      "price_clean                         0.0\n",
      "neighbourhood_cleansed              0.0\n",
      "longitude                           0.0\n",
      "latitude                            0.0\n",
      "review_scores_rating                0.0\n",
      "reviews_per_month                   0.0\n",
      "number_of_reviews                   0.0\n",
      "amenities                           0.0\n",
      "maximum_nights                      0.0\n",
      "minimum_nights                      0.0\n",
      "price                               0.0\n",
      "beds                                0.0\n",
      "bathrooms                           0.0\n",
      "bedrooms                            0.0\n",
      "accommodates                        0.0\n",
      "room_type                           0.0\n",
      "amenity_hot_water                   0.0\n",
      "dtype: float64\n"
     ]
    }
   ],
   "source": [
    "# Calculate missing percentages for each column\n",
    "missing_percentages = (df.isnull().sum() / df.shape[0]) * 100\n",
    "print(\"Missing percentages per column:\")\n",
    "print(missing_percentages.sort_values(ascending=False))\n"
   ]
  },
  {
   "cell_type": "markdown",
   "id": "d9f4b986-2585-4979-b001-fe75e63abd16",
   "metadata": {},
   "source": [
    "## Ger rid of missing values"
   ]
  },
  {
   "cell_type": "code",
   "execution_count": 61,
   "id": "96407ea7-e0c4-4d6d-be39-30cd01936bb2",
   "metadata": {},
   "outputs": [
    {
     "name": "stdout",
     "output_type": "stream",
     "text": [
      "Missing values per column after filtering:\n",
      "id                                  0\n",
      "property_type                       0\n",
      "room_type                           0\n",
      "accommodates                        0\n",
      "bedrooms                            0\n",
      "bathrooms                           0\n",
      "beds                                0\n",
      "price                               0\n",
      "minimum_nights                      0\n",
      "maximum_nights                      0\n",
      "amenities                           0\n",
      "number_of_reviews                   0\n",
      "reviews_per_month                   0\n",
      "review_scores_rating                0\n",
      "latitude                            0\n",
      "longitude                           0\n",
      "neighbourhood_cleansed              0\n",
      "price_clean                         0\n",
      "amenities_list                      0\n",
      "amenity_air_conditioning            0\n",
      "amenity_wifi                        0\n",
      "amenity_kitchen                     0\n",
      "amenity_heating                     0\n",
      "amenity_washer                      0\n",
      "amenity_dryer                       0\n",
      "amenity_tv                          0\n",
      "amenity_cable_tv                    0\n",
      "amenity_free_parking_on_premises    0\n",
      "amenity_pool                        0\n",
      "amenity_hot_water                   0\n",
      "dtype: int64\n"
     ]
    }
   ],
   "source": [
    "\n",
    "# Drop rows where the 'price_clean' value is missing\n",
    "df = df.dropna(subset=['price_clean'])\n",
    "\n",
    "# Filter the DataFrame to keep only rows with room_type \"Entire home/apt\"\n",
    "df = df[df['room_type'] == \"Entire home/apt\"]\n",
    "\n",
    "# Drop rows where 'bedrooms', 'bathrooms', or 'beds' are missing\n",
    "df = df.dropna(subset=['bedrooms', 'bathrooms', 'beds'])\n",
    "\n",
    "# Impute missing values for 'reviews_per_month' and 'review_scores_rating' with 0\n",
    "df['reviews_per_month'] = df['reviews_per_month'].fillna(0)\n",
    "df['review_scores_rating'] = df['review_scores_rating'].fillna(0)\n",
    "\n",
    "print(\"Missing values per column after filtering:\")\n",
    "print(df.isnull().sum())\n",
    "\n"
   ]
  },
  {
   "cell_type": "markdown",
   "id": "82025c9d-100e-44db-aaac-e59de977bd5e",
   "metadata": {},
   "source": [
    "# Start predictive model prep: Traianing and Testing Sets"
   ]
  },
  {
   "cell_type": "code",
   "execution_count": null,
   "id": "7b401703-8868-48c9-ba15-0e539f1543ed",
   "metadata": {},
   "outputs": [],
   "source": []
  }
 ],
 "metadata": {
  "kernelspec": {
   "display_name": "Python [conda env:base] *",
   "language": "python",
   "name": "conda-base-py"
  },
  "language_info": {
   "codemirror_mode": {
    "name": "ipython",
    "version": 3
   },
   "file_extension": ".py",
   "mimetype": "text/x-python",
   "name": "python",
   "nbconvert_exporter": "python",
   "pygments_lexer": "ipython3",
   "version": "3.12.7"
  }
 },
 "nbformat": 4,
 "nbformat_minor": 5
}
