{
 "cells": [
  {
   "cell_type": "code",
   "execution_count": null,
   "id": "56c4b35d-f940-415d-bc3a-c0ba1e611bef",
   "metadata": {},
   "outputs": [],
   "source": []
  },
  {
   "cell_type": "markdown",
   "id": "1f60e29d-31f6-4e72-9826-8c43f2e683a3",
   "metadata": {},
   "source": [
    "# Carsen Essing Machine Learning Assignment 2"
   ]
  },
  {
   "cell_type": "markdown",
   "id": "7ac610e1-577d-41e1-83a0-3f03219ccd37",
   "metadata": {},
   "source": [
    "# Upload Q3 LA Data from GitHub"
   ]
  },
  {
   "cell_type": "code",
   "execution_count": 271,
   "id": "85456cf5-aa54-41f5-9bdd-5338265e8baf",
   "metadata": {},
   "outputs": [
    {
     "name": "stdout",
     "output_type": "stream",
     "text": [
      "Files in the zip: ['LAQ3_reduced.csv']\n",
      "Data loaded successfully:\n",
      "                    id         property_type        room_type  accommodates  \\\n",
      "0   670339032744709144          Entire condo  Entire home/apt             6   \n",
      "1             37014494    Entire rental unit  Entire home/apt             2   \n",
      "2  1024835174766068422           Entire home  Entire home/apt             6   \n",
      "3   850744632375448560  Private room in home     Private room             2   \n",
      "4   953950676345326970    Entire rental unit  Entire home/apt             2   \n",
      "\n",
      "   bedrooms  bathrooms  beds    price  minimum_nights  maximum_nights  \\\n",
      "0       3.0        3.0   3.0  $399.00              30             365   \n",
      "1       2.0        NaN   NaN      NaN              30             270   \n",
      "2       3.0        3.0   3.0  $434.00              30             365   \n",
      "3       1.0        1.0   1.0   $49.00               1             365   \n",
      "4       0.0        1.0   1.0  $231.00               5              29   \n",
      "\n",
      "                                           amenities  number_of_reviews  \\\n",
      "0  [\"Dedicated workspace\", \"Air conditioning\", \"K...                  0   \n",
      "1  [\"Air conditioning\", \"Pets allowed\", \"Hot wate...                  0   \n",
      "2  [\"Air conditioning\", \"Kitchen\", \"Carbon monoxi...                  0   \n",
      "3  [\"Dedicated workspace\", \"Air conditioning\", \"K...                  1   \n",
      "4  [\"Clothing storage: closet\", \"Shared beach acc...                 44   \n",
      "\n",
      "   reviews_per_month  review_scores_rating   latitude   longitude  \\\n",
      "0                NaN                   NaN  34.049660 -118.435550   \n",
      "1                NaN                   NaN  34.048410 -118.387510   \n",
      "2                NaN                   NaN  34.070583 -118.390742   \n",
      "3               0.06                  3.00  34.109329 -118.073098   \n",
      "4               3.41                  4.93  34.015590 -118.494080   \n",
      "\n",
      "  neighbourhood_cleansed  \n",
      "0       West Los Angeles  \n",
      "1            Beverlywood  \n",
      "2          Beverly Hills  \n",
      "3            Temple City  \n",
      "4           Santa Monica  \n"
     ]
    }
   ],
   "source": [
    "import requests\n",
    "import io\n",
    "import pandas as pd\n",
    "\n",
    "# Raw URL to your zip file on GitHub\n",
    "url = \"https://raw.githubusercontent.com/CarsenEssing/Essing_ML_Assignment2/main/LAQ3_reduced.zip\"\n",
    "\n",
    "# Download the file as bytes\n",
    "response = requests.get(url)\n",
    "response.raise_for_status()  # Raises an error if the download fails\n",
    "\n",
    "# Open the downloaded content as a ZipFile\n",
    "with zipfile.ZipFile(io.BytesIO(response.content)) as z:\n",
    "    # List the files in the zip archive (for verification)\n",
    "    print(\"Files in the zip:\", z.namelist())\n",
    "    # Assuming the CSV file inside is named 'LAQ3_reduced.csv'\n",
    "    df = pd.read_csv(z.open(\"LAQ3_reduced.csv\"))\n",
    "\n",
    "print(\"Data loaded successfully:\")\n",
    "print(df.head())\n"
   ]
  },
  {
   "cell_type": "markdown",
   "id": "b74c318f-f6f9-4190-9032-092dbd8eb626",
   "metadata": {},
   "source": [
    "# Data Wrangling\n",
    "\n",
    "## Clean up price and amenities columns\n",
    "* I cleaned up the price and amenities columns to convert the raw, unstructured data into a usable format. This involved transforming the price from a string with currency symbols into a numerical value and processing the amenities into a consistent structure, ensuring accurate and efficient analysis and modeling.\n"
   ]
  },
  {
   "cell_type": "code",
   "execution_count": 273,
   "id": "cea0a915-9c89-415e-a75d-702b09bd0c95",
   "metadata": {},
   "outputs": [
    {
     "name": "stdout",
     "output_type": "stream",
     "text": [
      "Price before and after cleaning:\n",
      "     price  price_clean\n",
      "0  $399.00        399.0\n",
      "1      NaN          NaN\n",
      "2  $434.00        434.0\n",
      "3   $49.00         49.0\n",
      "4  $231.00        231.0\n",
      "\n",
      "Sample of processed amenities column:\n",
      "                                           amenities  \\\n",
      "0  [\"Dedicated workspace\", \"Air conditioning\", \"K...   \n",
      "1  [\"Air conditioning\", \"Pets allowed\", \"Hot wate...   \n",
      "2  [\"Air conditioning\", \"Kitchen\", \"Carbon monoxi...   \n",
      "3  [\"Dedicated workspace\", \"Air conditioning\", \"K...   \n",
      "4  [\"Clothing storage: closet\", \"Shared beach acc...   \n",
      "\n",
      "                                      amenities_list  \n",
      "0  [Dedicated workspace, Air conditioning, Kitche...  \n",
      "1  [Air conditioning, Pets allowed, Hot water, Ki...  \n",
      "2  [Air conditioning, Kitchen, Carbon monoxide al...  \n",
      "3  [Dedicated workspace, Air conditioning, Kitche...  \n",
      "4  [Clothing storage: closet, Shared beach access...  \n"
     ]
    }
   ],
   "source": [
    "# Remove the dollar sign and any commas, then convert the string to a float.\n",
    "df['price_clean'] = df['price'].replace({r'\\$': '', ',': ''}, regex=True).astype(float)\n",
    "\n",
    "# Print the original and cleaned price columns to verify changes.\n",
    "print(\"Price before and after cleaning:\")\n",
    "print(df[['price', 'price_clean']].head())\n",
    "\n",
    "# Process the 'amenities' column:\n",
    "# Remove the enclosing square brackets and quotes, then split the string into a list.\n",
    "df['amenities_list'] = df['amenities'].apply(lambda x: x.strip('[]\"').split('\", \"'))\n",
    "\n",
    "# Print a sample of the processed amenities column.\n",
    "print(\"\\nSample of processed amenities column:\")\n",
    "print(df[['amenities', 'amenities_list']].head())\n"
   ]
  },
  {
   "cell_type": "markdown",
   "id": "e3804bb1-bc0c-4972-becf-ad7056bdd523",
   "metadata": {},
   "source": [
    "## Create bianary code for popular amenities\n",
    "* I created binary variables for popular amenities to convert categorical data into a numerical format that machine learning models can easily use. This step ensures that the presence or absence of specific features is captured effectively, improving the model's ability to learn and predict accurately.\n"
   ]
  },
  {
   "cell_type": "code",
   "execution_count": 275,
   "id": "f701e760-83e9-4094-8117-b67935d269a5",
   "metadata": {},
   "outputs": [
    {
     "name": "stdout",
     "output_type": "stream",
     "text": [
      "Binary amenity columns:\n",
      "   amenity_air_conditioning  amenity_wifi  amenity_kitchen  amenity_heating  \\\n",
      "0                         1             1                1                0   \n",
      "1                         1             1                1                1   \n",
      "2                         1             1                1                0   \n",
      "3                         1             1                1                0   \n",
      "4                         1             1                1                1   \n",
      "\n",
      "   amenity_washer  amenity_dryer  amenity_tv  amenity_cable_tv  \\\n",
      "0               1              0           1                 0   \n",
      "1               1              1           1                 0   \n",
      "2               1              0           1                 0   \n",
      "3               1              0           0                 0   \n",
      "4               0              0           0                 0   \n",
      "\n",
      "   amenity_free_parking_on_premises  amenity_pool  amenity_hot_water  \n",
      "0                                 1             0                  0  \n",
      "1                                 1             0                  1  \n",
      "2                                 1             0                  0  \n",
      "3                                 1             0                  0  \n",
      "4                                 0             0                  1  \n"
     ]
    }
   ],
   "source": [
    "# Define a list of popular amenities to extract as binary features.\n",
    "# You may adjust this list based on what appears in your dataset.\n",
    "popular_amenities = [\n",
    "    \"Air conditioning\", \n",
    "    \"Wifi\", \n",
    "    \"Kitchen\", \n",
    "    \"Heating\", \n",
    "    \"Washer\", \n",
    "    \"Dryer\", \n",
    "    \"TV\", \n",
    "    \"Cable TV\", \n",
    "    \"Free parking on premises\", \n",
    "    \"Pool\", \n",
    "    \"Hot water\"\n",
    "]\n",
    "\n",
    "# For each amenity, create a new binary column.\n",
    "for amenity in popular_amenities:\n",
    "    # Create a column name by replacing spaces with underscores and converting to lowercase.\n",
    "    col_name = f\"amenity_{amenity.replace(' ', '_').lower()}\"\n",
    "    df[col_name] = df[\"amenities_list\"].apply(lambda x: 1 if amenity in x else 0)\n",
    "\n",
    "# Display the first few rows of the new binary amenity columns.\n",
    "binary_columns = [f\"amenity_{amenity.replace(' ', '_').lower()}\" for amenity in popular_amenities]\n",
    "print(\"Binary amenity columns:\")\n",
    "print(df[binary_columns].head())\n"
   ]
  },
  {
   "cell_type": "code",
   "execution_count": 283,
   "id": "78fb927d-c556-4198-bd1f-36409829b822",
   "metadata": {},
   "outputs": [
    {
     "name": "stdout",
     "output_type": "stream",
     "text": [
      "Missing percentages per column:\n",
      "review_scores_rating                26.675159\n",
      "reviews_per_month                   26.675159\n",
      "beds                                18.303209\n",
      "bathrooms                           18.094569\n",
      "price_clean                         18.090176\n",
      "price                               18.090176\n",
      "bedrooms                             6.674280\n",
      "amenity_washer                       0.000000\n",
      "amenity_wifi                         0.000000\n",
      "amenity_kitchen                      0.000000\n",
      "amenity_heating                      0.000000\n",
      "id                                   0.000000\n",
      "amenity_dryer                        0.000000\n",
      "amenity_air_conditioning             0.000000\n",
      "amenity_cable_tv                     0.000000\n",
      "amenity_free_parking_on_premises     0.000000\n",
      "amenity_pool                         0.000000\n",
      "amenity_tv                           0.000000\n",
      "longitude                            0.000000\n",
      "amenities_list                       0.000000\n",
      "neighbourhood_cleansed               0.000000\n",
      "property_type                        0.000000\n",
      "latitude                             0.000000\n",
      "number_of_reviews                    0.000000\n",
      "amenities                            0.000000\n",
      "maximum_nights                       0.000000\n",
      "minimum_nights                       0.000000\n",
      "accommodates                         0.000000\n",
      "room_type                            0.000000\n",
      "amenity_hot_water                    0.000000\n",
      "dtype: float64\n"
     ]
    }
   ],
   "source": [
    "# Calculate missing percentages for each column\n",
    "missing_percentages = (df.isnull().sum() / df.shape[0]) * 100\n",
    "print(\"Missing percentages per column:\")\n",
    "print(missing_percentages.sort_values(ascending=False))\n"
   ]
  },
  {
   "cell_type": "markdown",
   "id": "d9f4b986-2585-4979-b001-fe75e63abd16",
   "metadata": {},
   "source": [
    "## Handle missing values\n",
    "* I removed rows with missing cleaned price values because price is essential for our predictions and we need complete data. I filtered the dataset to include only \"Entire home/apt\" listings and dropped rows missing key room details (bedrooms, bathrooms, beds) to ensure data quality. Finally, I imputed missing review metrics with 0, assuming listings with no reviews have no ratings or review frequency, which helps maintain a consistent dataset for modeling."
   ]
  },
  {
   "cell_type": "code",
   "execution_count": 285,
   "id": "96407ea7-e0c4-4d6d-be39-30cd01936bb2",
   "metadata": {},
   "outputs": [
    {
     "name": "stdout",
     "output_type": "stream",
     "text": [
      "Missing values per column after filtering:\n",
      "id                                  0\n",
      "property_type                       0\n",
      "room_type                           0\n",
      "accommodates                        0\n",
      "bedrooms                            0\n",
      "bathrooms                           0\n",
      "beds                                0\n",
      "price                               0\n",
      "minimum_nights                      0\n",
      "maximum_nights                      0\n",
      "amenities                           0\n",
      "number_of_reviews                   0\n",
      "reviews_per_month                   0\n",
      "review_scores_rating                0\n",
      "latitude                            0\n",
      "longitude                           0\n",
      "neighbourhood_cleansed              0\n",
      "price_clean                         0\n",
      "amenities_list                      0\n",
      "amenity_air_conditioning            0\n",
      "amenity_wifi                        0\n",
      "amenity_kitchen                     0\n",
      "amenity_heating                     0\n",
      "amenity_washer                      0\n",
      "amenity_dryer                       0\n",
      "amenity_tv                          0\n",
      "amenity_cable_tv                    0\n",
      "amenity_free_parking_on_premises    0\n",
      "amenity_pool                        0\n",
      "amenity_hot_water                   0\n",
      "dtype: int64\n"
     ]
    }
   ],
   "source": [
    "# Drop rows where the 'price_clean' value is missing\n",
    "df = df.dropna(subset=['price_clean'])\n",
    "\n",
    "# Filter the DataFrame to keep only rows with room_type \"Entire home/apt\"\n",
    "df = df[df['room_type'] == \"Entire home/apt\"]\n",
    "\n",
    "# Drop rows where 'bedrooms', 'bathrooms', or 'beds' are missing\n",
    "df = df.dropna(subset=['bedrooms', 'bathrooms', 'beds'])\n",
    "\n",
    "# Impute missing values for 'reviews_per_month' and 'review_scores_rating' with 0\n",
    "df['reviews_per_month'] = df['reviews_per_month'].fillna(0)\n",
    "df['review_scores_rating'] = df['review_scores_rating'].fillna(0)\n",
    "\n",
    "# Verify that missing values are handled\n",
    "print(\"Missing values per column after filtering:\")\n",
    "print(df.isnull().sum())\n"
   ]
  },
  {
   "cell_type": "markdown",
   "id": "82025c9d-100e-44db-aaac-e59de977bd5e",
   "metadata": {},
   "source": [
    "# Start predictive model prep: Traianing and Testing Sets\n",
    "* This code first cleans the column names and creates a new column \"log_price\" by applying the natural logarithm to the cleaned price values. It then selects a set of numerical and binary features (excluding neighbourhood information) and constructs the feature matrix X and target vector y_log (ensuring it is 1-dimensional). Finally, the data is split into training (80%) and testing (20%) sets for later model training and evaluation, and the shapes of these splits are printed.\n"
   ]
  },
  {
   "cell_type": "code",
   "execution_count": 234,
   "id": "9094a20e-48dd-478d-bb37-6b7d4f537d37",
   "metadata": {},
   "outputs": [
    {
     "name": "stdout",
     "output_type": "stream",
     "text": [
      "Training set shape: (22992, 20)\n",
      "Testing set shape: (5749, 20)\n"
     ]
    }
   ],
   "source": [
    "from sklearn.model_selection import train_test_split\n",
    "from sklearn.linear_model import LinearRegression\n",
    "from sklearn.metrics import mean_squared_error\n",
    "import time\n",
    "\n",
    "# Ensure column names have no extra whitespace\n",
    "df.columns = df.columns.str.strip()\n",
    "\n",
    "# Create the log-transformed price column if it doesn't already exist\n",
    "if 'log_price' not in df.columns:\n",
    "    df['log_price'] = np.log(df['price_clean'])\n",
    "\n",
    "# Define your original feature columns (without neighbourhoods)\n",
    "features = [\n",
    "    'accommodates', 'bedrooms', 'bathrooms', 'beds', \n",
    "    'minimum_nights', 'maximum_nights', 'review_scores_rating', \n",
    "    'latitude', 'longitude',\n",
    "    'amenity_air_conditioning', 'amenity_wifi', 'amenity_kitchen', \n",
    "    'amenity_heating', 'amenity_washer', 'amenity_dryer', \n",
    "    'amenity_tv', 'amenity_cable_tv', 'amenity_free_parking_on_premises',\n",
    "    'amenity_pool', 'amenity_hot_water'\n",
    "]\n",
    "\n",
    "# Create the features DataFrame and ensure the target is a 1D array (log_price)\n",
    "X = df[features].copy()\n",
    "y_log = df['log_price'].values.ravel()  # Use only log_price for training and evaluation\n",
    "\n",
    "# Split the data into training (80%) and testing (20%)\n",
    "X_train, X_test, y_train_log, y_test_log = train_test_split(\n",
    "    X, y_log, test_size=0.2, random_state=42\n",
    ")\n",
    "\n",
    "print(\"Training set shape:\", X_train.shape)\n",
    "print(\"Testing set shape:\", X_test.shape)\n"
   ]
  },
  {
   "cell_type": "markdown",
   "id": "c42e3489-bcbf-480f-82da-ddb68edb8adb",
   "metadata": {},
   "source": [
    "# OLS"
   ]
  },
  {
   "cell_type": "code",
   "execution_count": 236,
   "id": "856213f9-b5da-43bb-8646-6428eadd2310",
   "metadata": {},
   "outputs": [
    {
     "name": "stdout",
     "output_type": "stream",
     "text": [
      "OLS RMSE in log-space: 0.47810505907743717\n",
      "OLS training + prediction time: 0.049935102462768555\n"
     ]
    }
   ],
   "source": [
    "# Build and train the OLS model using log(price) as the target\n",
    "ols = LinearRegression()\n",
    "start_time = time.time()\n",
    "ols.fit(X_train, y_train_log)\n",
    "ols_time = time.time() - start_time\n",
    "\n",
    "# Predict log(price) on the test set\n",
    "ols_log_preds = ols.predict(X_test)\n",
    "\n",
    "# Calculate RMSE in log-space\n",
    "ols_rmse_log = np.sqrt(mean_squared_error(y_test_log, ols_log_preds))\n",
    "print(\"OLS RMSE in log-space:\", ols_rmse_log)\n",
    "print(\"OLS training + prediction time:\", ols_time)"
   ]
  },
  {
   "cell_type": "markdown",
   "id": "b41e8a4e-ed85-426d-a09c-52bb32d212b5",
   "metadata": {},
   "source": [
    "# LASSO"
   ]
  },
  {
   "cell_type": "code",
   "execution_count": 238,
   "id": "4cc8c85d-a283-4f58-8a1e-b48bcef0d9da",
   "metadata": {},
   "outputs": [
    {
     "name": "stdout",
     "output_type": "stream",
     "text": [
      "LASSO (log price) RMSE in log-space: 0.49248469535409906\n",
      "LASSO training + prediction time: 0.23920273780822754\n"
     ]
    }
   ],
   "source": [
    "from sklearn.linear_model import LassoCV\n",
    "from sklearn.metrics import mean_squared_error\n",
    "\n",
    "# Train LASSO using the existing training data (X_train, y_train_log)\n",
    "start_time = time.time()\n",
    "lasso = LassoCV(cv=5, random_state=42)\n",
    "lasso.fit(X_train, y_train_log)\n",
    "lasso_time = time.time() - start_time\n",
    "\n",
    "# Predict on the test set (in log-space)\n",
    "lasso_log_preds = lasso.predict(X_test)\n",
    "\n",
    "# Calculate RMSE in log-space\n",
    "lasso_rmse_log = np.sqrt(mean_squared_error(y_test_log, lasso_log_preds))\n",
    "\n",
    "print(\"LASSO (log price) RMSE in log-space:\", lasso_rmse_log)\n",
    "print(\"LASSO training + prediction time:\", lasso_time)\n"
   ]
  },
  {
   "cell_type": "markdown",
   "id": "634d98f2-3e4b-4a32-b424-272e61085cc4",
   "metadata": {},
   "source": [
    "# Random Forest"
   ]
  },
  {
   "cell_type": "code",
   "execution_count": 240,
   "id": "27363c3b-abe1-4045-aac0-f1d5f94c17c9",
   "metadata": {},
   "outputs": [
    {
     "name": "stdout",
     "output_type": "stream",
     "text": [
      "Random Forest (log price) RMSE in log-space: 0.36799646522459867\n",
      "Random Forest training + prediction time: 9.134875059127808\n"
     ]
    }
   ],
   "source": [
    "from sklearn.ensemble import RandomForestRegressor\n",
    "\n",
    "# Train a Random Forest model on log(price)\n",
    "start_time = time.time()\n",
    "rf = RandomForestRegressor(n_estimators=100, random_state=42)\n",
    "rf.fit(X_train, y_train_log)\n",
    "rf_time = time.time() - start_time\n",
    "\n",
    "# Predict log(price) on the test set\n",
    "rf_log_preds = rf.predict(X_test)\n",
    "\n",
    "# Calculate RMSE in log-space\n",
    "rf_rmse_log = np.sqrt(mean_squared_error(y_test_log, rf_log_preds))\n",
    "\n",
    "print(\"Random Forest (log price) RMSE in log-space:\", rf_rmse_log)\n",
    "print(\"Random Forest training + prediction time:\", rf_time)\n"
   ]
  },
  {
   "cell_type": "markdown",
   "id": "9dfa2702-8833-4d3b-a2d9-96b4619b220c",
   "metadata": {},
   "source": [
    "# Gradient Boosting"
   ]
  },
  {
   "cell_type": "code",
   "execution_count": 242,
   "id": "19cbc6d4-296f-4bfc-b102-2b46b66cc27f",
   "metadata": {},
   "outputs": [
    {
     "name": "stdout",
     "output_type": "stream",
     "text": [
      "Gradient Boosting (log price) RMSE in log-space: 0.4118355574142461\n",
      "Gradient Boosting training + prediction time: 2.5046021938323975\n"
     ]
    }
   ],
   "source": [
    "from sklearn.ensemble import GradientBoostingRegressor\n",
    "\n",
    "# Train a Gradient Boosting model on log(price)\n",
    "start_time = time.time()\n",
    "gb = GradientBoostingRegressor(random_state=42)\n",
    "gb.fit(X_train, y_train_log)\n",
    "gb_time = time.time() - start_time\n",
    "\n",
    "# Predict log(price) on the test set\n",
    "gb_log_preds = gb.predict(X_test)\n",
    "\n",
    "# Calculate RMSE in log-space\n",
    "gb_rmse_log = np.sqrt(mean_squared_error(y_test_log, gb_log_preds))\n",
    "\n",
    "print(\"Gradient Boosting (log price) RMSE in log-space:\", gb_rmse_log)\n",
    "print(\"Gradient Boosting training + prediction time:\", gb_time)\n"
   ]
  },
  {
   "cell_type": "markdown",
   "id": "82d380e2-3598-43ce-a4b1-5d8d19b9a26b",
   "metadata": {},
   "source": [
    "# SVR"
   ]
  },
  {
   "cell_type": "code",
   "execution_count": 244,
   "id": "4edcad8e-8a27-45d6-a382-71363ab8604f",
   "metadata": {},
   "outputs": [
    {
     "name": "stdout",
     "output_type": "stream",
     "text": [
      "SVR (log price) RMSE in log-space: 0.6325827526285246\n",
      "SVR training + prediction time: 10.167217016220093\n"
     ]
    }
   ],
   "source": [
    "from sklearn.svm import SVR\n",
    "\n",
    "# Instantiate the SVR model (using RBF kernel as default)\n",
    "start_time = time.time()\n",
    "svr = SVR(kernel='rbf')\n",
    "svr.fit(X_train, y_train_log)\n",
    "svr_time = time.time() - start_time\n",
    "\n",
    "# Predict log(price) on the test set\n",
    "svr_log_preds = svr.predict(X_test)\n",
    "\n",
    "# Calculate RMSE in log-space\n",
    "svr_rmse_log = np.sqrt(mean_squared_error(y_test_log, svr_log_preds))\n",
    "\n",
    "print(\"SVR (log price) RMSE in log-space:\", svr_rmse_log)\n",
    "print(\"SVR training + prediction time:\", svr_time)\n"
   ]
  },
  {
   "cell_type": "markdown",
   "id": "b3c22788-f54f-423e-a94a-77ef2ceeb395",
   "metadata": {},
   "source": [
    "# Horserace table"
   ]
  },
  {
   "cell_type": "code",
   "execution_count": 246,
   "id": "7feab333-180e-4ad6-9d3a-dff7eccfa540",
   "metadata": {},
   "outputs": [
    {
     "name": "stdout",
     "output_type": "stream",
     "text": [
      "               Model  RMSE (log-space)  Time (sec)\n",
      "0                OLS          0.478105    0.049935\n",
      "1              LASSO          0.492485    0.239203\n",
      "2      Random Forest          0.367996    9.134875\n",
      "3  Gradient Boosting          0.411836    2.504602\n",
      "4                SVR          0.632583   10.167217\n"
     ]
    }
   ],
   "source": [
    "# Create a DataFrame to store the performance metrics for each model\n",
    "results = pd.DataFrame({\n",
    "    \"Model\": [\"OLS\", \"LASSO\", \"Random Forest\", \"Gradient Boosting\", \"SVR\"],\n",
    "    \"RMSE (log-space)\": [ols_rmse_log, lasso_rmse_log, rf_rmse_log, gb_rmse_log, svr_rmse_log],\n",
    "    \"Time (sec)\": [ols_time, lasso_time, rf_time, gb_time, svr_time]\n",
    "})\n",
    "\n",
    "print(results)\n"
   ]
  },
  {
   "cell_type": "markdown",
   "id": "291fd8e7-1e51-44ad-b7ee-30875319a24a",
   "metadata": {},
   "source": [
    "### Horserace Table Interpretation\n",
    "\n",
    "- **OLS**  \n",
    "  - **Error:** RMSE in log-space of 0.478  \n",
    "  - **Speed:** Very fast (0.05 sec)  \n",
    "  - **Summary:** Provides a good baseline with minimal computational cost.\n",
    "\n",
    "- **LASSO**  \n",
    "  - **Error:** Slightly higher RMSE (0.492)  \n",
    "  - **Speed:** A bit slower (0.24 sec)  \n",
    "  - **Summary:** not a significant improvement here.\n",
    "\n",
    "- **Random Forest**  \n",
    "  - **Error:** Best accuracy with RMSE of 0.368  \n",
    "  - **Speed:** Much slower (9.13 sec)  \n",
    "  - **Summary:** Captures non-linear relationships very well,the lowest error, slight increased computation time.\n",
    "\n",
    "- **Gradient Boosting**  \n",
    "  - **Error:** RMSE of 0.412  \n",
    "  - **Speed:** Faster than Random Forest \n",
    "  - **Summary:** Offers a good trade-off between accuracy and speed, with error lower than linear models and reasonable processing time.\n",
    "\n",
    "- **SVR**  \n",
    "  - **Error:** Highest RMSE (0.633)  \n",
    "  - **Speed:** Also slow \n",
    "  - **Summary:** Not as effective for this dataset, showing the highest error and being one of the slowest models.\n",
    "\n",
    "---\n",
    "\n",
    "### Overall Summary\n",
    "\n",
    "- **Accuracy:**  \n",
    "  Ensemble methods (Random Forest and Gradient Boosting) are better then the simpler models (OLS and LASSO) in terms of error.\n",
    "  \n",
    "- **Speed:**  \n",
    "  OLS and LASSO are extremely fast, while SVR and Random Forest take significantly longer. Gradient Boosting strikes a balance with good accuracy and moderate computation time.\n",
    "\n",
    "- **Recommendation:**  \n",
    "  If prediction accuracy is the priority and you can afford longer computation times, Random Forest is the best. If you need a good balance of speed and accuracy, Gradient Boosting is a strong option.\n"
   ]
  },
  {
   "cell_type": "markdown",
   "id": "42cc43db-e7a7-4fad-a221-e959abce4dee",
   "metadata": {},
   "source": [
    "# feature importance\n",
    "* From the charts, both models identify bathrooms and bedrooms as highly influential in predicting Airbnb price. The geographical features such as latitude and longitude also rank near the top, indicating that location strongly affects pricing. Lastly, amenities like pools or review metrics (e.g., review_scores_rating) can still matter, but appear less critical than basic listing attributes (bedrooms, bathrooms, location)."
   ]
  },
  {
   "cell_type": "code",
   "execution_count": null,
   "id": "46b67a74-27b8-414e-88ce-920177f33282",
   "metadata": {},
   "outputs": [],
   "source": []
  },
  {
   "cell_type": "code",
   "execution_count": 296,
   "id": "37ccf829-c933-41c8-89ab-b2b1a29cade2",
   "metadata": {},
   "outputs": [
    {
     "data": {
      "image/png": "[encoded data removed]",
      "text/plain": [
       "<Figure size 1500x600 with 2 Axes>"
      ]
     },
     "metadata": {},
     "output_type": "display_data"
    }
   ],
   "source": [
    "import matplotlib.pyplot as plt\n",
    "\n",
    "# Extract the top 10 features for each model\n",
    "rf_top10 = rf_importances.head(10)\n",
    "gb_top10 = gb_importances.head(10)\n",
    "\n",
    "# Create subplots\n",
    "fig, axes = plt.subplots(nrows=1, ncols=2, figsize=(15, 6))\n",
    "\n",
    "# Plot Random Forest top 10 features\n",
    "rf_top10.sort_values().plot(kind='barh', ax=axes[0], color='skyblue')\n",
    "axes[0].set_title(\"Random Forest - Top 10 Feature Importances\")\n",
    "axes[0].set_xlabel(\"Importance\")\n",
    "axes[0].set_ylabel(\"Feature\")\n",
    "\n",
    "# Plot Gradient Boosting top 10 features\n",
    "gb_top10.sort_values().plot(kind='barh', ax=axes[1], color='salmon')\n",
    "axes[1].set_title(\"Gradient Boosting - Top 10 Feature Importances\")\n",
    "axes[1].set_xlabel(\"Importance\")\n",
    "axes[1].set_ylabel(\"Feature\")\n",
    "\n",
    "plt.tight_layout()\n",
    "plt.show()\n"
   ]
  },
  {
   "cell_type": "code",
   "execution_count": null,
   "id": "a0ec1e6a-e5ff-4223-8511-824632404a2b",
   "metadata": {},
   "outputs": [],
   "source": []
  },
  {
   "cell_type": "code",
   "execution_count": null,
   "id": "82153df6-6a5b-49e5-ab97-62758d838d59",
   "metadata": {},
   "outputs": [],
   "source": []
  }
 ],
 "metadata": {
  "kernelspec": {
   "display_name": "Python [conda env:base] *",
   "language": "python",
   "name": "conda-base-py"
  },
  "language_info": {
   "codemirror_mode": {
    "name": "ipython",
    "version": 3
   },
   "file_extension": ".py",
   "mimetype": "text/x-python",
   "name": "python",
   "nbconvert_exporter": "python",
   "pygments_lexer": "ipython3",
   "version": "3.12.7"
  }
 },
 "nbformat": 4,
 "nbformat_minor": 5
}
