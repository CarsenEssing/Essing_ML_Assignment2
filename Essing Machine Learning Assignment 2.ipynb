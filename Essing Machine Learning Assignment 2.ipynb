{
 "cells": [
  {
   "cell_type": "markdown",
   "id": "1f60e29d-31f6-4e72-9826-8c43f2e683a3",
   "metadata": {},
   "source": [
    "# Carsen Essing Machine Learning Assignment 2\n",
    "\n",
    "## Upload data and perliminary data exploration"
   ]
  },
  {
   "cell_type": "code",
   "execution_count": 15,
   "id": "2b4ff77b-193c-429f-834d-5f4c6d47542a",
   "metadata": {},
   "outputs": [
    {
     "name": "stdout",
     "output_type": "stream",
     "text": [
      "All columns in the dataset:\n",
      "['id', 'listing_url', 'scrape_id', 'last_scraped', 'source', 'name', 'description', 'neighborhood_overview', 'picture_url', 'host_id', 'host_url', 'host_name', 'host_since', 'host_location', 'host_about', 'host_response_time', 'host_response_rate', 'host_acceptance_rate', 'host_is_superhost', 'host_thumbnail_url', 'host_picture_url', 'host_neighbourhood', 'host_listings_count', 'host_total_listings_count', 'host_verifications', 'host_has_profile_pic', 'host_identity_verified', 'neighbourhood', 'neighbourhood_cleansed', 'neighbourhood_group_cleansed', 'latitude', 'longitude', 'property_type', 'room_type', 'accommodates', 'bathrooms', 'bathrooms_text', 'bedrooms', 'beds', 'amenities', 'price', 'minimum_nights', 'maximum_nights', 'minimum_minimum_nights', 'maximum_minimum_nights', 'minimum_maximum_nights', 'maximum_maximum_nights', 'minimum_nights_avg_ntm', 'maximum_nights_avg_ntm', 'calendar_updated', 'has_availability', 'availability_30', 'availability_60', 'availability_90', 'availability_365', 'calendar_last_scraped', 'number_of_reviews', 'number_of_reviews_ltm', 'number_of_reviews_l30d', 'first_review', 'last_review', 'review_scores_rating', 'review_scores_accuracy', 'review_scores_cleanliness', 'review_scores_checkin', 'review_scores_communication', 'review_scores_location', 'review_scores_value', 'license', 'instant_bookable', 'calculated_host_listings_count', 'calculated_host_listings_count_entire_homes', 'calculated_host_listings_count_private_rooms', 'calculated_host_listings_count_shared_rooms', 'reviews_per_month']\n",
      "\n",
      "Columns recommended to drop:\n",
      "['listing_url', 'scrape_id', 'last_scraped', 'source', 'name', 'description', 'neighborhood_overview', 'picture_url', 'host_id', 'host_url', 'host_name', 'host_since', 'host_location', 'host_about', 'host_response_time', 'host_response_rate', 'host_acceptance_rate', 'host_is_superhost', 'host_thumbnail_url', 'host_picture_url', 'host_neighbourhood', 'host_listings_count', 'host_total_listings_count', 'host_verifications', 'host_has_profile_pic', 'host_identity_verified', 'neighbourhood', 'neighbourhood_group_cleansed', 'bathrooms_text', 'minimum_minimum_nights', 'maximum_minimum_nights', 'minimum_maximum_nights', 'maximum_maximum_nights', 'minimum_nights_avg_ntm', 'maximum_nights_avg_ntm', 'calendar_updated', 'has_availability', 'availability_30', 'availability_60', 'availability_90', 'availability_365', 'calendar_last_scraped', 'number_of_reviews_ltm', 'number_of_reviews_l30d', 'first_review', 'last_review', 'review_scores_accuracy', 'review_scores_cleanliness', 'review_scores_checkin', 'review_scores_communication', 'review_scores_location', 'review_scores_value', 'license', 'instant_bookable', 'calculated_host_listings_count', 'calculated_host_listings_count_entire_homes', 'calculated_host_listings_count_private_rooms', 'calculated_host_listings_count_shared_rooms']\n",
      "\n",
      "The reduced CSV file 'LAq1_reduced.csv' has been created.\n"
     ]
    }
   ],
   "source": [
    "import pandas as pd\n",
    "\n",
    "# Read your dataset\n",
    "df = pd.read_csv(\"LAQ3.csv\")\n",
    "\n",
    "# Print all columns to inspect the dataset\n",
    "print(\"All columns in the dataset:\")\n",
    "print(df.columns.tolist())\n",
    "\n",
    "# Define the list of columns to keep, using 'neighbourhood_cleansed' instead of 'neighbourhood'\n",
    "columns_to_keep = [\n",
    "    'id',                   # unique identifier\n",
    "    'property_type',        # property type (e.g., Apartment, House)\n",
    "    'room_type',            # room type (e.g., Entire home/apt, Private room)\n",
    "    'accommodates',         # number of guests the listing can accommodate\n",
    "    'bedrooms',             # number of bedrooms\n",
    "    'bathrooms',            # number of bathrooms\n",
    "    'beds',                 # number of beds\n",
    "    'price',                # price per night (target variable)\n",
    "    'minimum_nights',       # minimum nights required\n",
    "    'maximum_nights',       # maximum nights allowed\n",
    "    'amenities',            # amenities (raw string; later processed)\n",
    "    'number_of_reviews',    # count of reviews\n",
    "    'reviews_per_month',    # review frequency\n",
    "    'review_scores_rating', # overall review score\n",
    "    'latitude',             # geographic coordinate\n",
    "    'longitude',            # geographic coordinate\n",
    "    'neighbourhood_cleansed' # cleaned neighbourhood name\n",
    "]\n",
    "\n",
    "# Identify the columns in the dataset that are not in the keep list\n",
    "columns_to_drop = [col for col in df.columns if col not in columns_to_keep]\n",
    "\n",
    "print(\"\\nColumns recommended to drop:\")\n",
    "print(columns_to_drop)\n",
    "\n",
    "# Create a reduced DataFrame with only the desired columns\n",
    "df_reduced = df[columns_to_keep]\n",
    "\n",
    "# Save the reduced DataFrame to a new CSV file for easier sharing\n",
    "df_reduced.to_csv(\"LAQ3_reduced.csv\", index=False)\n",
    "print(\"\\nThe reduced CSV file 'LAQ3_reduced.csv' has been created.\")\n"
   ]
  },
  {
   "cell_type": "code",
   "execution_count": 17,
   "id": "efd0d75d-f1af-4f7e-b5fb-b0d0921b20bf",
   "metadata": {},
   "outputs": [
    {
     "name": "stdout",
     "output_type": "stream",
     "text": [
      "LAQ3_reduced.csv has been successfully compressed into LAQ3_reduced.zip\n"
     ]
    }
   ],
   "source": [
    "import zipfile\n",
    "\n",
    "# Specify the CSV file to compress and the desired zip file name\n",
    "csv_filename = \"LAQ3_reduced.csv\"\n",
    "zip_filename = \"LAQ3_reduced.zip\"\n",
    "\n",
    "# Create a ZipFile object in write mode, compressing with ZIP_DEFLATED\n",
    "with zipfile.ZipFile(zip_filename, 'w', zipfile.ZIP_DEFLATED) as zipf:\n",
    "    # Add the CSV file to the zip archive. The arcname parameter ensures that only the filename is stored (not the entire path)\n",
    "    zipf.write(csv_filename, arcname=csv_filename)\n",
    "\n",
    "print(f\"{csv_filename} has been successfully compressed into {zip_filename}\")\n"
   ]
  },
  {
   "cell_type": "code",
   "execution_count": null,
   "id": "318a6e6c-e142-40e3-b1e7-2c692a678077",
   "metadata": {},
   "outputs": [],
   "source": []
  }
 ],
 "metadata": {
  "kernelspec": {
   "display_name": "Python [conda env:base] *",
   "language": "python",
   "name": "conda-base-py"
  },
  "language_info": {
   "codemirror_mode": {
    "name": "ipython",
    "version": 3
   },
   "file_extension": ".py",
   "mimetype": "text/x-python",
   "name": "python",
   "nbconvert_exporter": "python",
   "pygments_lexer": "ipython3",
   "version": "3.12.7"
  }
 },
 "nbformat": 4,
 "nbformat_minor": 5
}
